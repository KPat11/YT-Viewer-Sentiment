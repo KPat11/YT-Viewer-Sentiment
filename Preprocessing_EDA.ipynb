{
 "cells": [
  {
   "cell_type": "markdown",
   "metadata": {},
   "source": [
    "# Data Preprocessing Intial Thoughts\n",
    "- Installing google trans lib to detect foreign languages and converting them to english\n",
    "- Importing regex to handle emojis and other pictographs\n",
    "- Goal is to convert comments into plain english with no emojis \n",
    "\n",
    "I consdiered converting emojis into sentiment but meanings of emojis do not align to basic sentiment and would not be optimal for preprocessing. For example: a crying face emoji can mean laughing (positive) but can also be negative (sad) therefore better to remove all emojis and if a commenter only used emojis in their comment I will convert to NaN and remove."
   ]
  },
  {
   "cell_type": "markdown",
   "metadata": {},
   "source": []
  },
  {
   "cell_type": "code",
   "execution_count": 2,
   "metadata": {},
   "outputs": [
    {
     "name": "stdout",
     "output_type": "stream",
     "text": [
      "Collecting langdetect\n",
      "  Using cached langdetect-1.0.9.tar.gz (981 kB)\n",
      "  Preparing metadata (setup.py) ... \u001b[?25ldone\n",
      "\u001b[?25hCollecting googletrans==4.0.0-rc1\n",
      "  Using cached googletrans-4.0.0rc1.tar.gz (20 kB)\n",
      "  Preparing metadata (setup.py) ... \u001b[?25ldone\n",
      "\u001b[?25hCollecting httpx==0.13.3 (from googletrans==4.0.0-rc1)\n",
      "  Using cached httpx-0.13.3-py3-none-any.whl.metadata (25 kB)\n",
      "Requirement already satisfied: certifi in /Users/Ken/Desktop/GitHub/Reccomendation-System-Movies/.conda/lib/python3.11/site-packages (from httpx==0.13.3->googletrans==4.0.0-rc1) (2025.4.26)\n",
      "Collecting hstspreload (from httpx==0.13.3->googletrans==4.0.0-rc1)\n",
      "  Using cached hstspreload-2025.1.1-py3-none-any.whl.metadata (2.1 kB)\n",
      "Collecting sniffio (from httpx==0.13.3->googletrans==4.0.0-rc1)\n",
      "  Using cached sniffio-1.3.1-py3-none-any.whl.metadata (3.9 kB)\n",
      "Collecting chardet==3.* (from httpx==0.13.3->googletrans==4.0.0-rc1)\n",
      "  Using cached chardet-3.0.4-py2.py3-none-any.whl.metadata (3.2 kB)\n",
      "Collecting idna==2.* (from httpx==0.13.3->googletrans==4.0.0-rc1)\n",
      "  Using cached idna-2.10-py2.py3-none-any.whl.metadata (9.1 kB)\n",
      "Collecting rfc3986<2,>=1.3 (from httpx==0.13.3->googletrans==4.0.0-rc1)\n",
      "  Using cached rfc3986-1.5.0-py2.py3-none-any.whl.metadata (6.5 kB)\n",
      "Collecting httpcore==0.9.* (from httpx==0.13.3->googletrans==4.0.0-rc1)\n",
      "  Using cached httpcore-0.9.1-py3-none-any.whl.metadata (4.6 kB)\n",
      "Collecting h11<0.10,>=0.8 (from httpcore==0.9.*->httpx==0.13.3->googletrans==4.0.0-rc1)\n",
      "  Using cached h11-0.9.0-py2.py3-none-any.whl.metadata (8.1 kB)\n",
      "Collecting h2==3.* (from httpcore==0.9.*->httpx==0.13.3->googletrans==4.0.0-rc1)\n",
      "  Using cached h2-3.2.0-py2.py3-none-any.whl.metadata (32 kB)\n",
      "Collecting hyperframe<6,>=5.2.0 (from h2==3.*->httpcore==0.9.*->httpx==0.13.3->googletrans==4.0.0-rc1)\n",
      "  Using cached hyperframe-5.2.0-py2.py3-none-any.whl.metadata (7.2 kB)\n",
      "Collecting hpack<4,>=3.0 (from h2==3.*->httpcore==0.9.*->httpx==0.13.3->googletrans==4.0.0-rc1)\n",
      "  Using cached hpack-3.0.0-py2.py3-none-any.whl.metadata (7.0 kB)\n",
      "Requirement already satisfied: six in /Users/Ken/Desktop/GitHub/Reccomendation-System-Movies/.conda/lib/python3.11/site-packages (from langdetect) (1.17.0)\n",
      "Using cached httpx-0.13.3-py3-none-any.whl (55 kB)\n",
      "Using cached chardet-3.0.4-py2.py3-none-any.whl (133 kB)\n",
      "Using cached httpcore-0.9.1-py3-none-any.whl (42 kB)\n",
      "Using cached h11-0.9.0-py2.py3-none-any.whl (53 kB)\n",
      "Using cached h2-3.2.0-py2.py3-none-any.whl (65 kB)\n",
      "Using cached hpack-3.0.0-py2.py3-none-any.whl (38 kB)\n",
      "Using cached hyperframe-5.2.0-py2.py3-none-any.whl (12 kB)\n",
      "Using cached idna-2.10-py2.py3-none-any.whl (58 kB)\n",
      "Using cached rfc3986-1.5.0-py2.py3-none-any.whl (31 kB)\n",
      "Using cached sniffio-1.3.1-py3-none-any.whl (10 kB)\n",
      "Using cached hstspreload-2025.1.1-py3-none-any.whl (1.3 MB)\n",
      "Building wheels for collected packages: googletrans, langdetect\n",
      "\u001b[33m  DEPRECATION: Building 'googletrans' using the legacy setup.py bdist_wheel mechanism, which will be removed in a future version. pip 25.3 will enforce this behaviour change. A possible replacement is to use the standardized build interface by setting the `--use-pep517` option, (possibly combined with `--no-build-isolation`), or adding a `pyproject.toml` file to the source tree of 'googletrans'. Discussion can be found at https://github.com/pypa/pip/issues/6334\u001b[0m\u001b[33m\n",
      "\u001b[0m  Building wheel for googletrans (setup.py) ... \u001b[?25ldone\n",
      "\u001b[?25h  Created wheel for googletrans: filename=googletrans-4.0.0rc1-py3-none-any.whl size=17454 sha256=253fd467af535d19bf41649b3cbafb0bc7c0d6ea632534f48f43af9c25e33d7b\n",
      "  Stored in directory: /Users/Ken/Library/Caches/pip/wheels/39/17/6f/66a045ea3d168826074691b4b787b8f324d3f646d755443fda\n",
      "\u001b[33m  DEPRECATION: Building 'langdetect' using the legacy setup.py bdist_wheel mechanism, which will be removed in a future version. pip 25.3 will enforce this behaviour change. A possible replacement is to use the standardized build interface by setting the `--use-pep517` option, (possibly combined with `--no-build-isolation`), or adding a `pyproject.toml` file to the source tree of 'langdetect'. Discussion can be found at https://github.com/pypa/pip/issues/6334\u001b[0m\u001b[33m\n",
      "\u001b[0m  Building wheel for langdetect (setup.py) ... \u001b[?25ldone\n",
      "\u001b[?25h  Created wheel for langdetect: filename=langdetect-1.0.9-py3-none-any.whl size=993332 sha256=ba8fe9bd18441ebd88ab3ba2363d9885df3ab5e58edf0fc7eaf179cd7d4cd02c\n",
      "  Stored in directory: /Users/Ken/Library/Caches/pip/wheels/0a/f2/b2/e5ca405801e05eb7c8ed5b3b4bcf1fcabcd6272c167640072e\n",
      "Successfully built googletrans langdetect\n",
      "Installing collected packages: rfc3986, hyperframe, hpack, h11, chardet, sniffio, langdetect, idna, hstspreload, h2, httpcore, httpx, googletrans\n",
      "\u001b[2K  Attempting uninstall: hyperframe\n",
      "\u001b[2K    Found existing installation: hyperframe 6.1.0\n",
      "\u001b[2K    Uninstalling hyperframe-6.1.0:\n",
      "\u001b[2K      Successfully uninstalled hyperframe-6.1.0\n",
      "\u001b[2K  Attempting uninstall: hpack\n",
      "\u001b[2K    Found existing installation: hpack 4.1.0\n",
      "\u001b[2K    Uninstalling hpack-4.1.0:\n",
      "\u001b[2K      Successfully uninstalled hpack-4.1.0\n",
      "\u001b[2K  Attempting uninstall: idna[90m╺\u001b[0m\u001b[90m━━━━━━━━━━━━━━━━━━━━━━━━\u001b[0m \u001b[32m 5/13\u001b[0m [sniffio]\n",
      "\u001b[2K    Found existing installation: idna 3.10━━━━━━━━━━━━━━━━━━━━\u001b[0m \u001b[32m 5/13\u001b[0m [sniffio]\n",
      "\u001b[2K    Uninstalling idna-3.10:m╺\u001b[0m\u001b[90m━━━━━━━━━━━━━━━━━━━━━━━━\u001b[0m \u001b[32m 5/13\u001b[0m [sniffio]\n",
      "\u001b[2K      Successfully uninstalled idna-3.10━━━━━━━━━━━━━━━━━━━━━━\u001b[0m \u001b[32m 5/13\u001b[0m [sniffio]\n",
      "\u001b[2K  Attempting uninstall: h2━━━━━━\u001b[0m\u001b[91m╸\u001b[0m\u001b[90m━━━━━━━━━━━━━━━\u001b[0m \u001b[32m 8/13\u001b[0m [hstspreload]\n",
      "\u001b[2K    Found existing installation: h2 4.2.0m\u001b[90m━━━━━━━━━━━━━━━\u001b[0m \u001b[32m 8/13\u001b[0m [hstspreload]\n",
      "\u001b[2K    Uninstalling h2-4.2.0:━━\u001b[0m\u001b[91m╸\u001b[0m\u001b[90m━━━━━━━━━━━━━━━\u001b[0m \u001b[32m 8/13\u001b[0m [hstspreload]\n",
      "\u001b[2K      Successfully uninstalled h2-4.2.0[0m\u001b[90m━━━━━━━━━━━━━━━\u001b[0m \u001b[32m 8/13\u001b[0m [hstspreload]\n",
      "\u001b[2K   \u001b[90m━━━━━━━━━━━━━━━━━━━━━━━━━━━━━━━━━━━━━━━━\u001b[0m \u001b[32m13/13\u001b[0m [googletrans]\u001b[0m [httpx]re]\n",
      "\u001b[1A\u001b[2KSuccessfully installed chardet-3.0.4 googletrans-4.0.0rc1 h11-0.9.0 h2-3.2.0 hpack-3.0.0 hstspreload-2025.1.1 httpcore-0.9.1 httpx-0.13.3 hyperframe-5.2.0 idna-2.10 langdetect-1.0.9 rfc3986-1.5.0 sniffio-1.3.1\n",
      "Note: you may need to restart the kernel to use updated packages.\n"
     ]
    }
   ],
   "source": [
    "pip install langdetect googletrans==4.0.0-rc1"
   ]
  },
  {
   "cell_type": "code",
   "execution_count": 29,
   "metadata": {},
   "outputs": [],
   "source": [
    "import numpy as np\n",
    "import pandas as pd\n",
    "from langdetect import detect, lang_detect_exception\n",
    "from googletrans import Translator\n",
    "import re"
   ]
  },
  {
   "cell_type": "code",
   "execution_count": 6,
   "metadata": {},
   "outputs": [
    {
     "data": {
      "application/vnd.microsoft.datawrangler.viewer.v0+json": {
       "columns": [
        {
         "name": "index",
         "rawType": "int64",
         "type": "integer"
        },
        {
         "name": "author",
         "rawType": "object",
         "type": "string"
        },
        {
         "name": "comment",
         "rawType": "object",
         "type": "string"
        },
        {
         "name": "commentsCount",
         "rawType": "int64",
         "type": "integer"
        },
        {
         "name": "pageUrl",
         "rawType": "object",
         "type": "string"
        },
        {
         "name": "replyCount",
         "rawType": "int64",
         "type": "integer"
        },
        {
         "name": "title",
         "rawType": "object",
         "type": "string"
        },
        {
         "name": "type",
         "rawType": "object",
         "type": "string"
        },
        {
         "name": "videoID",
         "rawType": "float64",
         "type": "float"
        },
        {
         "name": "voteCount",
         "rawType": "int64",
         "type": "integer"
        }
       ],
       "ref": "21d3dc78-0d13-43d3-9e8c-09a15b27c335",
       "rows": [
        [
         "0",
         "@MrBeast",
         "I noticed some comments asking how they take their clothes off when they shower. We put buttons on the sides of the shirts so they can just rip them off without taking off the handcuffs haha",
         "52636",
         "https://www.youtube.com/watch?v=4l97aNza_Zc",
         "553",
         "Survive 30 Days Chained To Your Ex, Win $250,000",
         "comment",
         null,
         "130000"
        ],
        [
         "1",
         "@MiguelSilveira-x8f",
         "Olk",
         "52636",
         "https://www.youtube.com/watch?v=4l97aNza_Zc",
         "0",
         "Survive 30 Days Chained To Your Ex, Win $250,000",
         "comment",
         null,
         "0"
        ],
        [
         "2",
         "@SelimCopet",
         "😭😭😭😿😓",
         "52636",
         "https://www.youtube.com/watch?v=4l97aNza_Zc",
         "0",
         "Survive 30 Days Chained To Your Ex, Win $250,000",
         "comment",
         null,
         "1"
        ],
        [
         "3",
         "@ДаняКалинков",
         "Я еще не досмотрел видео, но если он снимет цепь раньше, то он ее не любит",
         "52636",
         "https://www.youtube.com/watch?v=4l97aNza_Zc",
         "0",
         "Survive 30 Days Chained To Your Ex, Win $250,000",
         "comment",
         null,
         "0"
        ],
        [
         "4",
         "@guadalupehernandezlezama9804",
         "Que vivan los novios",
         "52636",
         "https://www.youtube.com/watch?v=4l97aNza_Zc",
         "0",
         "Survive 30 Days Chained To Your Ex, Win $250,000",
         "comment",
         null,
         "0"
        ]
       ],
       "shape": {
        "columns": 9,
        "rows": 5
       }
      },
      "text/html": [
       "<div>\n",
       "<style scoped>\n",
       "    .dataframe tbody tr th:only-of-type {\n",
       "        vertical-align: middle;\n",
       "    }\n",
       "\n",
       "    .dataframe tbody tr th {\n",
       "        vertical-align: top;\n",
       "    }\n",
       "\n",
       "    .dataframe thead th {\n",
       "        text-align: right;\n",
       "    }\n",
       "</style>\n",
       "<table border=\"1\" class=\"dataframe\">\n",
       "  <thead>\n",
       "    <tr style=\"text-align: right;\">\n",
       "      <th></th>\n",
       "      <th>author</th>\n",
       "      <th>comment</th>\n",
       "      <th>commentsCount</th>\n",
       "      <th>pageUrl</th>\n",
       "      <th>replyCount</th>\n",
       "      <th>title</th>\n",
       "      <th>type</th>\n",
       "      <th>videoID</th>\n",
       "      <th>voteCount</th>\n",
       "    </tr>\n",
       "  </thead>\n",
       "  <tbody>\n",
       "    <tr>\n",
       "      <th>0</th>\n",
       "      <td>@MrBeast</td>\n",
       "      <td>I noticed some comments asking how they take t...</td>\n",
       "      <td>52636</td>\n",
       "      <td>https://www.youtube.com/watch?v=4l97aNza_Zc</td>\n",
       "      <td>553</td>\n",
       "      <td>Survive 30 Days Chained To Your Ex, Win $250,000</td>\n",
       "      <td>comment</td>\n",
       "      <td>NaN</td>\n",
       "      <td>130000</td>\n",
       "    </tr>\n",
       "    <tr>\n",
       "      <th>1</th>\n",
       "      <td>@MiguelSilveira-x8f</td>\n",
       "      <td>Olk</td>\n",
       "      <td>52636</td>\n",
       "      <td>https://www.youtube.com/watch?v=4l97aNza_Zc</td>\n",
       "      <td>0</td>\n",
       "      <td>Survive 30 Days Chained To Your Ex, Win $250,000</td>\n",
       "      <td>comment</td>\n",
       "      <td>NaN</td>\n",
       "      <td>0</td>\n",
       "    </tr>\n",
       "    <tr>\n",
       "      <th>2</th>\n",
       "      <td>@SelimCopet</td>\n",
       "      <td>😭😭😭😿😓</td>\n",
       "      <td>52636</td>\n",
       "      <td>https://www.youtube.com/watch?v=4l97aNza_Zc</td>\n",
       "      <td>0</td>\n",
       "      <td>Survive 30 Days Chained To Your Ex, Win $250,000</td>\n",
       "      <td>comment</td>\n",
       "      <td>NaN</td>\n",
       "      <td>1</td>\n",
       "    </tr>\n",
       "    <tr>\n",
       "      <th>3</th>\n",
       "      <td>@ДаняКалинков</td>\n",
       "      <td>Я еще не досмотрел видео, но если он снимет це...</td>\n",
       "      <td>52636</td>\n",
       "      <td>https://www.youtube.com/watch?v=4l97aNza_Zc</td>\n",
       "      <td>0</td>\n",
       "      <td>Survive 30 Days Chained To Your Ex, Win $250,000</td>\n",
       "      <td>comment</td>\n",
       "      <td>NaN</td>\n",
       "      <td>0</td>\n",
       "    </tr>\n",
       "    <tr>\n",
       "      <th>4</th>\n",
       "      <td>@guadalupehernandezlezama9804</td>\n",
       "      <td>Que vivan los novios</td>\n",
       "      <td>52636</td>\n",
       "      <td>https://www.youtube.com/watch?v=4l97aNza_Zc</td>\n",
       "      <td>0</td>\n",
       "      <td>Survive 30 Days Chained To Your Ex, Win $250,000</td>\n",
       "      <td>comment</td>\n",
       "      <td>NaN</td>\n",
       "      <td>0</td>\n",
       "    </tr>\n",
       "  </tbody>\n",
       "</table>\n",
       "</div>"
      ],
      "text/plain": [
       "                          author  \\\n",
       "0                       @MrBeast   \n",
       "1            @MiguelSilveira-x8f   \n",
       "2                    @SelimCopet   \n",
       "3                  @ДаняКалинков   \n",
       "4  @guadalupehernandezlezama9804   \n",
       "\n",
       "                                             comment  commentsCount  \\\n",
       "0  I noticed some comments asking how they take t...          52636   \n",
       "1                                                Olk          52636   \n",
       "2                                              😭😭😭😿😓          52636   \n",
       "3  Я еще не досмотрел видео, но если он снимет це...          52636   \n",
       "4                               Que vivan los novios          52636   \n",
       "\n",
       "                                       pageUrl  replyCount  \\\n",
       "0  https://www.youtube.com/watch?v=4l97aNza_Zc         553   \n",
       "1  https://www.youtube.com/watch?v=4l97aNza_Zc           0   \n",
       "2  https://www.youtube.com/watch?v=4l97aNza_Zc           0   \n",
       "3  https://www.youtube.com/watch?v=4l97aNza_Zc           0   \n",
       "4  https://www.youtube.com/watch?v=4l97aNza_Zc           0   \n",
       "\n",
       "                                              title     type  videoID  \\\n",
       "0  Survive 30 Days Chained To Your Ex, Win $250,000  comment      NaN   \n",
       "1  Survive 30 Days Chained To Your Ex, Win $250,000  comment      NaN   \n",
       "2  Survive 30 Days Chained To Your Ex, Win $250,000  comment      NaN   \n",
       "3  Survive 30 Days Chained To Your Ex, Win $250,000  comment      NaN   \n",
       "4  Survive 30 Days Chained To Your Ex, Win $250,000  comment      NaN   \n",
       "\n",
       "   voteCount  \n",
       "0     130000  \n",
       "1          0  \n",
       "2          1  \n",
       "3          0  \n",
       "4          0  "
      ]
     },
     "execution_count": 6,
     "metadata": {},
     "output_type": "execute_result"
    }
   ],
   "source": [
    "df = pd.read_csv('dataset_youtube-comments-scraper_2025-10-24_00-01-21-625.csv')\n",
    "df.head()"
   ]
  },
  {
   "cell_type": "markdown",
   "metadata": {},
   "source": [
    "## Handling emojis with regex"
   ]
  },
  {
   "cell_type": "code",
   "execution_count": null,
   "metadata": {},
   "outputs": [
    {
     "name": "stderr",
     "output_type": "stream",
     "text": [
      "/var/folders/kk/ydcq81f14tdfdnfphl1r7plw0000gp/T/ipykernel_95644/1452032425.py:31: FutureWarning: A value is trying to be set on a copy of a DataFrame or Series through chained assignment using an inplace method.\n",
      "The behavior will change in pandas 3.0. This inplace method will never work because the intermediate object on which we are setting values always behaves as a copy.\n",
      "\n",
      "For example, when doing 'df[col].method(value, inplace=True)', try using 'df.method({col: value}, inplace=True)' or df[col] = df[col].method(value) instead, to perform the operation inplace on the original object.\n",
      "\n",
      "\n",
      "  df_no_emojis['comment'].replace('', np.nan, inplace=True)\n"
     ]
    },
    {
     "data": {
      "application/vnd.microsoft.datawrangler.viewer.v0+json": {
       "columns": [
        {
         "name": "index",
         "rawType": "object",
         "type": "string"
        },
        {
         "name": "commentsCount",
         "rawType": "float64",
         "type": "float"
        },
        {
         "name": "replyCount",
         "rawType": "float64",
         "type": "float"
        },
        {
         "name": "videoID",
         "rawType": "float64",
         "type": "float"
        },
        {
         "name": "voteCount",
         "rawType": "float64",
         "type": "float"
        }
       ],
       "ref": "aca33653-b7aa-4046-aa60-062bc10c842b",
       "rows": [
        [
         "count",
         "1801.0",
         "1801.0",
         "0.0",
         "1801.0"
        ],
        [
         "mean",
         "52636.0",
         "0.32481954469739033",
         null,
         "77.36146585230428"
        ],
        [
         "std",
         "0.0",
         "13.031094875257944",
         null,
         "3064.034237160478"
        ],
        [
         "min",
         "52636.0",
         "0.0",
         null,
         "0.0"
        ],
        [
         "25%",
         "52636.0",
         "0.0",
         null,
         "0.0"
        ],
        [
         "50%",
         "52636.0",
         "0.0",
         null,
         "0.0"
        ],
        [
         "75%",
         "52636.0",
         "0.0",
         null,
         "0.0"
        ],
        [
         "max",
         "52636.0",
         "553.0",
         null,
         "130000.0"
        ]
       ],
       "shape": {
        "columns": 4,
        "rows": 8
       }
      },
      "text/html": [
       "<div>\n",
       "<style scoped>\n",
       "    .dataframe tbody tr th:only-of-type {\n",
       "        vertical-align: middle;\n",
       "    }\n",
       "\n",
       "    .dataframe tbody tr th {\n",
       "        vertical-align: top;\n",
       "    }\n",
       "\n",
       "    .dataframe thead th {\n",
       "        text-align: right;\n",
       "    }\n",
       "</style>\n",
       "<table border=\"1\" class=\"dataframe\">\n",
       "  <thead>\n",
       "    <tr style=\"text-align: right;\">\n",
       "      <th></th>\n",
       "      <th>commentsCount</th>\n",
       "      <th>replyCount</th>\n",
       "      <th>videoID</th>\n",
       "      <th>voteCount</th>\n",
       "    </tr>\n",
       "  </thead>\n",
       "  <tbody>\n",
       "    <tr>\n",
       "      <th>count</th>\n",
       "      <td>1801.0</td>\n",
       "      <td>1801.000000</td>\n",
       "      <td>0.0</td>\n",
       "      <td>1801.000000</td>\n",
       "    </tr>\n",
       "    <tr>\n",
       "      <th>mean</th>\n",
       "      <td>52636.0</td>\n",
       "      <td>0.324820</td>\n",
       "      <td>NaN</td>\n",
       "      <td>77.361466</td>\n",
       "    </tr>\n",
       "    <tr>\n",
       "      <th>std</th>\n",
       "      <td>0.0</td>\n",
       "      <td>13.031095</td>\n",
       "      <td>NaN</td>\n",
       "      <td>3064.034237</td>\n",
       "    </tr>\n",
       "    <tr>\n",
       "      <th>min</th>\n",
       "      <td>52636.0</td>\n",
       "      <td>0.000000</td>\n",
       "      <td>NaN</td>\n",
       "      <td>0.000000</td>\n",
       "    </tr>\n",
       "    <tr>\n",
       "      <th>25%</th>\n",
       "      <td>52636.0</td>\n",
       "      <td>0.000000</td>\n",
       "      <td>NaN</td>\n",
       "      <td>0.000000</td>\n",
       "    </tr>\n",
       "    <tr>\n",
       "      <th>50%</th>\n",
       "      <td>52636.0</td>\n",
       "      <td>0.000000</td>\n",
       "      <td>NaN</td>\n",
       "      <td>0.000000</td>\n",
       "    </tr>\n",
       "    <tr>\n",
       "      <th>75%</th>\n",
       "      <td>52636.0</td>\n",
       "      <td>0.000000</td>\n",
       "      <td>NaN</td>\n",
       "      <td>0.000000</td>\n",
       "    </tr>\n",
       "    <tr>\n",
       "      <th>max</th>\n",
       "      <td>52636.0</td>\n",
       "      <td>553.000000</td>\n",
       "      <td>NaN</td>\n",
       "      <td>130000.000000</td>\n",
       "    </tr>\n",
       "  </tbody>\n",
       "</table>\n",
       "</div>"
      ],
      "text/plain": [
       "       commentsCount   replyCount  videoID      voteCount\n",
       "count         1801.0  1801.000000      0.0    1801.000000\n",
       "mean         52636.0     0.324820      NaN      77.361466\n",
       "std              0.0    13.031095      NaN    3064.034237\n",
       "min          52636.0     0.000000      NaN       0.000000\n",
       "25%          52636.0     0.000000      NaN       0.000000\n",
       "50%          52636.0     0.000000      NaN       0.000000\n",
       "75%          52636.0     0.000000      NaN       0.000000\n",
       "max          52636.0   553.000000      NaN  130000.000000"
      ]
     },
     "execution_count": 21,
     "metadata": {},
     "output_type": "execute_result"
    }
   ],
   "source": [
    "df_no_emojis = df\n",
    "\n",
    "emojis_code = re.compile(\n",
    "    \"[\"\n",
    "    # Emoticons code\n",
    "    \"\\U0001F600-\\U0001F64F\"\n",
    "    # Symbols and Pictographs code\n",
    "    \"\\U0001F300-\\U0001F5FF\"\n",
    "    # Transport and Map symbols code\n",
    "    \"\\U0001F680-\\U0001F6FF\"\n",
    "    # Flags (iOS)\n",
    "    \"\\U0001F1E0-\\U0001F1FF\"\n",
    "    # Dingbats\n",
    "    \"\\U00002702-\\U000027B0\"\n",
    "    # Uncommon symbols like trademark, etc\n",
    "    \"\\U000024C2-\\U0001F251\"\n",
    "    \"]+\", flags=re.UNICODE\n",
    ")\n",
    "\n",
    "# Finding and removing emojis function\n",
    "def remove_emojis(text):\n",
    "    # if input is a string, check if it has above codes and replace with blank\n",
    "    if isinstance(text, str):\n",
    "        return emojis_code.sub(r'', text)\n",
    "    return text\n",
    "\n",
    "# Applying function to df copy to assure everything is good before actual df\n",
    "df_no_emojis['comment'] = df_no_emojis['comment'].apply(remove_emojis)\n",
    "\n",
    "# remove blank comments after applying emoji logic\n",
    "df_no_emojis['comment'].replace('', np.nan, inplace=True)\n",
    "df_no_emojis.dropna(subset=['comment'], inplace=True)\n",
    "\n",
    "df_no_emojis.head()\n",
    "df_no_emojis.describe()"
   ]
  },
  {
   "cell_type": "markdown",
   "metadata": {},
   "source": [
    "## Translate Comments to English\n",
    "Great! Regex method to find symbol codes and replace with blank text worked. We lost 199 of our 2000 comments so we still have a good size set to work with. Now let's detect foreign languages and convert it to english"
   ]
  },
  {
   "cell_type": "code",
   "execution_count": 30,
   "metadata": {},
   "outputs": [
    {
     "ename": "",
     "evalue": "",
     "output_type": "error",
     "traceback": [
      "\u001b[1;31mCannot execute code, session has been disposed. Please try restarting the Kernel."
     ]
    },
    {
     "ename": "",
     "evalue": "",
     "output_type": "error",
     "traceback": [
      "\u001b[1;31mCannot execute code, session has been disposed. Please try restarting the Kernel. \n",
      "\u001b[1;31mView Jupyter <a href='command:jupyter.viewOutput'>log</a> for further details."
     ]
    }
   ],
   "source": [
    "df_translate = df_no_emojis\n",
    "\n",
    "# Create function to tranlate to English\n",
    "def translate_to_english(text):\n",
    "    # handle non-string and empty text\n",
    "    if not isinstance(text, str) or not text.strip():\n",
    "        return 'unknown', text\n",
    "\n",
    "    try:\n",
    "        lang = detect(text)\n",
    "        if lang != 'en':\n",
    "            translator = Translator()\n",
    "            translation = translator.translate(text, dest='en')\n",
    "            return lang, translation.text\n",
    "        else:\n",
    "            return 'en', text\n",
    "    except lang_detect_exception.LangDetectException:\n",
    "        # handling if lang detect cannot find features\n",
    "        return 'unknown', text\n",
    "    except Exception as e:\n",
    "        # catch other errors\n",
    "        print(f\"Error processing: '{text}' - {e}\")\n",
    "\n",
    "    # if google translate cannot detect language return unknown\n",
    "    except:\n",
    "        return 'unknown'\n",
    "    if src_lang != 'en':\n",
    "        try:\n",
    "            return translator.translate(text, src=src_lang, dest='en').text\n",
    "        except:\n",
    "            return text\n",
    "    return text\n",
    "\n",
    "# Applying function\n",
    "df_translate[['detected_language', 'translated_text']] = df_translate['comment'].apply(\n",
    "    lambda x: pd.Series(translate_to_english(x))\n",
    ")\n",
    "# checking to see if detection/translation worked as intended\n",
    "# check_df_translate = df_translate[~df_translate['language_detected'].str.contains('unknown', case=False, na=False)]\n",
    "# check_df_translate.head()\n",
    "df_translate.head()"
   ]
  },
  {
   "cell_type": "code",
   "execution_count": null,
   "metadata": {},
   "outputs": [],
   "source": []
  }
 ],
 "metadata": {
  "kernelspec": {
   "display_name": "Python 3",
   "language": "python",
   "name": "python3"
  },
  "language_info": {
   "codemirror_mode": {
    "name": "ipython",
    "version": 3
   },
   "file_extension": ".py",
   "mimetype": "text/x-python",
   "name": "python",
   "nbconvert_exporter": "python",
   "pygments_lexer": "ipython3",
   "version": "3.11.0"
  }
 },
 "nbformat": 4,
 "nbformat_minor": 2
}
